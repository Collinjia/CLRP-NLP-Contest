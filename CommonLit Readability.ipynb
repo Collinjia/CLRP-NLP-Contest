{
 "cells": [
  {
   "cell_type": "code",
   "execution_count": 12,
   "id": "77d56cf9",
   "metadata": {
    "ExecuteTime": {
     "end_time": "2021-07-11T21:02:12.360135Z",
     "start_time": "2021-07-11T21:02:07.711082Z"
    }
   },
   "outputs": [
    {
     "name": "stdout",
     "output_type": "stream",
     "text": [
      "Collecting textstat\n",
      "  Downloading textstat-0.7.1-py3-none-any.whl (99 kB)\n",
      "Collecting pyphen\n",
      "  Downloading pyphen-0.11.0-py3-none-any.whl (2.0 MB)\n",
      "Installing collected packages: pyphen, textstat\n",
      "Successfully installed pyphen-0.11.0 textstat-0.7.1\n"
     ]
    }
   ],
   "source": [
    "!pip install textstat"
   ]
  },
  {
   "cell_type": "code",
   "execution_count": 1,
   "id": "6936a98e",
   "metadata": {
    "ExecuteTime": {
     "end_time": "2021-07-11T20:36:11.729162Z",
     "start_time": "2021-07-11T20:36:11.459101Z"
    }
   },
   "outputs": [],
   "source": [
    "import numpy as np\n",
    "import pandas as pd"
   ]
  },
  {
   "cell_type": "code",
   "execution_count": 2,
   "id": "17c0406a",
   "metadata": {
    "ExecuteTime": {
     "end_time": "2021-07-11T20:36:12.640369Z",
     "start_time": "2021-07-11T20:36:12.591358Z"
    }
   },
   "outputs": [
    {
     "data": {
      "text/html": [
       "<div>\n",
       "<style scoped>\n",
       "    .dataframe tbody tr th:only-of-type {\n",
       "        vertical-align: middle;\n",
       "    }\n",
       "\n",
       "    .dataframe tbody tr th {\n",
       "        vertical-align: top;\n",
       "    }\n",
       "\n",
       "    .dataframe thead th {\n",
       "        text-align: right;\n",
       "    }\n",
       "</style>\n",
       "<table border=\"1\" class=\"dataframe\">\n",
       "  <thead>\n",
       "    <tr style=\"text-align: right;\">\n",
       "      <th></th>\n",
       "      <th>id</th>\n",
       "      <th>url_legal</th>\n",
       "      <th>license</th>\n",
       "      <th>excerpt</th>\n",
       "      <th>target</th>\n",
       "      <th>standard_error</th>\n",
       "    </tr>\n",
       "  </thead>\n",
       "  <tbody>\n",
       "    <tr>\n",
       "      <th>0</th>\n",
       "      <td>c12129c31</td>\n",
       "      <td>NaN</td>\n",
       "      <td>NaN</td>\n",
       "      <td>When the young people returned to the ballroom...</td>\n",
       "      <td>-0.340259</td>\n",
       "      <td>0.464009</td>\n",
       "    </tr>\n",
       "    <tr>\n",
       "      <th>1</th>\n",
       "      <td>85aa80a4c</td>\n",
       "      <td>NaN</td>\n",
       "      <td>NaN</td>\n",
       "      <td>All through dinner time, Mrs. Fayre was somewh...</td>\n",
       "      <td>-0.315372</td>\n",
       "      <td>0.480805</td>\n",
       "    </tr>\n",
       "    <tr>\n",
       "      <th>2</th>\n",
       "      <td>b69ac6792</td>\n",
       "      <td>NaN</td>\n",
       "      <td>NaN</td>\n",
       "      <td>As Roger had predicted, the snow departed as q...</td>\n",
       "      <td>-0.580118</td>\n",
       "      <td>0.476676</td>\n",
       "    </tr>\n",
       "    <tr>\n",
       "      <th>3</th>\n",
       "      <td>dd1000b26</td>\n",
       "      <td>NaN</td>\n",
       "      <td>NaN</td>\n",
       "      <td>And outside before the palace a great garden w...</td>\n",
       "      <td>-1.054013</td>\n",
       "      <td>0.450007</td>\n",
       "    </tr>\n",
       "    <tr>\n",
       "      <th>4</th>\n",
       "      <td>37c1b32fb</td>\n",
       "      <td>NaN</td>\n",
       "      <td>NaN</td>\n",
       "      <td>Once upon a time there were Three Bears who li...</td>\n",
       "      <td>0.247197</td>\n",
       "      <td>0.510845</td>\n",
       "    </tr>\n",
       "  </tbody>\n",
       "</table>\n",
       "</div>"
      ],
      "text/plain": [
       "          id url_legal license  \\\n",
       "0  c12129c31       NaN     NaN   \n",
       "1  85aa80a4c       NaN     NaN   \n",
       "2  b69ac6792       NaN     NaN   \n",
       "3  dd1000b26       NaN     NaN   \n",
       "4  37c1b32fb       NaN     NaN   \n",
       "\n",
       "                                             excerpt    target  standard_error  \n",
       "0  When the young people returned to the ballroom... -0.340259        0.464009  \n",
       "1  All through dinner time, Mrs. Fayre was somewh... -0.315372        0.480805  \n",
       "2  As Roger had predicted, the snow departed as q... -0.580118        0.476676  \n",
       "3  And outside before the palace a great garden w... -1.054013        0.450007  \n",
       "4  Once upon a time there were Three Bears who li...  0.247197        0.510845  "
      ]
     },
     "execution_count": 2,
     "metadata": {},
     "output_type": "execute_result"
    }
   ],
   "source": [
    "train = pd.read_csv(\"train.csv\")\n",
    "train.head()"
   ]
  },
  {
   "cell_type": "code",
   "execution_count": 3,
   "id": "b79b2c29",
   "metadata": {
    "ExecuteTime": {
     "end_time": "2021-07-11T20:36:13.788629Z",
     "start_time": "2021-07-11T20:36:13.775626Z"
    }
   },
   "outputs": [],
   "source": [
    "# Since there is no url_legal and license info in the hidden testing dataset\n",
    "# These two columns are meaningless for our model\n",
    "train = train.drop(['url_legal', 'license'], axis=1)"
   ]
  },
  {
   "cell_type": "markdown",
   "id": "549a51b5",
   "metadata": {},
   "source": [
    "## EDA\n",
    "Word:\n",
    "\n",
    "    1. less common words are usually more complex\n",
    "    2. Longer words are usually more complex\n",
    "    \n",
    "Sentence:\n",
    "\n",
    "    1. Longer sentence are usually more complex"
   ]
  },
  {
   "cell_type": "markdown",
   "id": "2aa96aea",
   "metadata": {},
   "source": [
    "### Meta data - excerpt features"
   ]
  },
  {
   "cell_type": "code",
   "execution_count": 4,
   "id": "3a2ad94e",
   "metadata": {
    "ExecuteTime": {
     "end_time": "2021-07-11T20:36:16.760300Z",
     "start_time": "2021-07-11T20:36:16.749299Z"
    }
   },
   "outputs": [],
   "source": [
    "# get the meta data for each excerpt\n",
    "def get_meta(df, col):\n",
    "    \n",
    "    # Bin the target into three levels\n",
    "    target_bins = [i for i in range(-4, 3, 2)]\n",
    "    target_labels = ['complex', 'medium', 'simple']\n",
    "    df['level'] = pd.cut(\n",
    "    df['target'], bins=target_bins, labels=target_labels).astype('str')\n",
    "    \n",
    "    # Add meta data\n",
    "    df['sentences_per_excerpt'] = df[col].apply(lambda x: x.count('.'))\n",
    "    df['words_per_excerpt'] = df[col].str.split().map(lambda x: len(x))\n",
    "    df['characters_per_excerpt'] = df[col].apply(lambda x: len(x))\n",
    "\n",
    "    df['words_per_sentence'] = df[col].str.split('.').apply(\n",
    "    lambda x: [len(i.split()) for i in x]).map(\n",
    "    lambda x: np.mean(x[:-1])\n",
    "    )\n",
    "    df['characters_per_sentense'] = df[col].str.split('.').apply(\n",
    "    lambda x: [len(i) for i in x]).map(\n",
    "    lambda x: np.mean(x[:-1])\n",
    "    )\n",
    "    df['characters_per_word'] = df[col].str.split().apply(\n",
    "    lambda x: [len(i) for i in x]).map(\n",
    "    lambda x: np.mean(x)\n",
    "    )\n",
    "    return df"
   ]
  },
  {
   "cell_type": "code",
   "execution_count": 5,
   "id": "b70f63a9",
   "metadata": {
    "ExecuteTime": {
     "end_time": "2021-07-11T20:36:17.558480Z",
     "start_time": "2021-07-11T20:36:17.551479Z"
    }
   },
   "outputs": [],
   "source": [
    "def get_samples(df, col_1='level'):\n",
    "    samples = {}\n",
    "    level = df[col_1].unique().tolist()\n",
    "    level.sort(reverse=True)\n",
    "    for i in level:\n",
    "        idx = df.loc[df[col_1] == i].sample().index[0]\n",
    "        target = round(df['target'][idx], 2)\n",
    "        excerpt = df['excerpt'][idx]\n",
    "        samples[f'{i}'] = [target, excerpt]\n",
    "    return samples"
   ]
  },
  {
   "cell_type": "code",
   "execution_count": 6,
   "id": "bb8d8102",
   "metadata": {
    "ExecuteTime": {
     "end_time": "2021-07-11T20:36:19.762979Z",
     "start_time": "2021-07-11T20:36:19.489919Z"
    }
   },
   "outputs": [],
   "source": [
    "train = get_meta(train, 'excerpt')"
   ]
  },
  {
   "cell_type": "code",
   "execution_count": 7,
   "id": "e21bc2cd",
   "metadata": {
    "ExecuteTime": {
     "end_time": "2021-07-11T20:36:19.954023Z",
     "start_time": "2021-07-11T20:36:19.931018Z"
    }
   },
   "outputs": [
    {
     "data": {
      "text/html": [
       "<div>\n",
       "<style scoped>\n",
       "    .dataframe tbody tr th:only-of-type {\n",
       "        vertical-align: middle;\n",
       "    }\n",
       "\n",
       "    .dataframe tbody tr th {\n",
       "        vertical-align: top;\n",
       "    }\n",
       "\n",
       "    .dataframe thead th {\n",
       "        text-align: right;\n",
       "    }\n",
       "</style>\n",
       "<table border=\"1\" class=\"dataframe\">\n",
       "  <thead>\n",
       "    <tr style=\"text-align: right;\">\n",
       "      <th></th>\n",
       "      <th>id</th>\n",
       "      <th>excerpt</th>\n",
       "      <th>target</th>\n",
       "      <th>standard_error</th>\n",
       "      <th>level</th>\n",
       "      <th>sentences_per_excerpt</th>\n",
       "      <th>words_per_excerpt</th>\n",
       "      <th>characters_per_excerpt</th>\n",
       "      <th>words_per_sentence</th>\n",
       "      <th>characters_per_sentense</th>\n",
       "      <th>characters_per_word</th>\n",
       "    </tr>\n",
       "  </thead>\n",
       "  <tbody>\n",
       "    <tr>\n",
       "      <th>0</th>\n",
       "      <td>c12129c31</td>\n",
       "      <td>When the young people returned to the ballroom...</td>\n",
       "      <td>-0.340259</td>\n",
       "      <td>0.464009</td>\n",
       "      <td>medium</td>\n",
       "      <td>11</td>\n",
       "      <td>179</td>\n",
       "      <td>992</td>\n",
       "      <td>16.272727</td>\n",
       "      <td>89.181818</td>\n",
       "      <td>4.547486</td>\n",
       "    </tr>\n",
       "    <tr>\n",
       "      <th>1</th>\n",
       "      <td>85aa80a4c</td>\n",
       "      <td>All through dinner time, Mrs. Fayre was somewh...</td>\n",
       "      <td>-0.315372</td>\n",
       "      <td>0.480805</td>\n",
       "      <td>medium</td>\n",
       "      <td>10</td>\n",
       "      <td>169</td>\n",
       "      <td>937</td>\n",
       "      <td>17.100000</td>\n",
       "      <td>92.700000</td>\n",
       "      <td>4.550296</td>\n",
       "    </tr>\n",
       "    <tr>\n",
       "      <th>2</th>\n",
       "      <td>b69ac6792</td>\n",
       "      <td>As Roger had predicted, the snow departed as q...</td>\n",
       "      <td>-0.580118</td>\n",
       "      <td>0.476676</td>\n",
       "      <td>medium</td>\n",
       "      <td>11</td>\n",
       "      <td>166</td>\n",
       "      <td>908</td>\n",
       "      <td>15.272727</td>\n",
       "      <td>81.454545</td>\n",
       "      <td>4.475904</td>\n",
       "    </tr>\n",
       "    <tr>\n",
       "      <th>3</th>\n",
       "      <td>dd1000b26</td>\n",
       "      <td>And outside before the palace a great garden w...</td>\n",
       "      <td>-1.054013</td>\n",
       "      <td>0.450007</td>\n",
       "      <td>medium</td>\n",
       "      <td>5</td>\n",
       "      <td>164</td>\n",
       "      <td>909</td>\n",
       "      <td>32.800000</td>\n",
       "      <td>180.800000</td>\n",
       "      <td>4.548780</td>\n",
       "    </tr>\n",
       "    <tr>\n",
       "      <th>4</th>\n",
       "      <td>37c1b32fb</td>\n",
       "      <td>Once upon a time there were Three Bears who li...</td>\n",
       "      <td>0.247197</td>\n",
       "      <td>0.510845</td>\n",
       "      <td>simple</td>\n",
       "      <td>5</td>\n",
       "      <td>147</td>\n",
       "      <td>723</td>\n",
       "      <td>29.400000</td>\n",
       "      <td>143.600000</td>\n",
       "      <td>3.925170</td>\n",
       "    </tr>\n",
       "  </tbody>\n",
       "</table>\n",
       "</div>"
      ],
      "text/plain": [
       "          id                                            excerpt    target  \\\n",
       "0  c12129c31  When the young people returned to the ballroom... -0.340259   \n",
       "1  85aa80a4c  All through dinner time, Mrs. Fayre was somewh... -0.315372   \n",
       "2  b69ac6792  As Roger had predicted, the snow departed as q... -0.580118   \n",
       "3  dd1000b26  And outside before the palace a great garden w... -1.054013   \n",
       "4  37c1b32fb  Once upon a time there were Three Bears who li...  0.247197   \n",
       "\n",
       "   standard_error   level  sentences_per_excerpt  words_per_excerpt  \\\n",
       "0        0.464009  medium                     11                179   \n",
       "1        0.480805  medium                     10                169   \n",
       "2        0.476676  medium                     11                166   \n",
       "3        0.450007  medium                      5                164   \n",
       "4        0.510845  simple                      5                147   \n",
       "\n",
       "   characters_per_excerpt  words_per_sentence  characters_per_sentense  \\\n",
       "0                     992           16.272727                89.181818   \n",
       "1                     937           17.100000                92.700000   \n",
       "2                     908           15.272727                81.454545   \n",
       "3                     909           32.800000               180.800000   \n",
       "4                     723           29.400000               143.600000   \n",
       "\n",
       "   characters_per_word  \n",
       "0             4.547486  \n",
       "1             4.550296  \n",
       "2             4.475904  \n",
       "3             4.548780  \n",
       "4             3.925170  "
      ]
     },
     "execution_count": 7,
     "metadata": {},
     "output_type": "execute_result"
    }
   ],
   "source": [
    "train.head()"
   ]
  },
  {
   "cell_type": "code",
   "execution_count": 15,
   "id": "3bfba856",
   "metadata": {
    "ExecuteTime": {
     "end_time": "2021-07-11T21:10:13.037388Z",
     "start_time": "2021-07-11T21:10:13.025385Z"
    }
   },
   "outputs": [
    {
     "name": "stdout",
     "output_type": "stream",
     "text": [
      "\u001b[1m\u001b[33mTrain contains 2834 excerpts, ranging from 135 to 205 (avg 173) words long.\u001b[0m\n",
      "\u001b[32m------------------------------\u001b[0m\n",
      "Train sample of \u001b[1m\u001b[32mSIMPLE\u001b[0m text with the target value: \u001b[1m\u001b[32m0.55\u001b[0m\n",
      "\u001b[32m------------------------------\u001b[0m\n",
      "Annie and her baby-brother went to ride with their papa and mamma. They crossed the river on a long bridge; and beyond it they saw horses and cows feeding on the green prairie.\n",
      "\"What are all these heaps of dirt for?\" said Annie.\n",
      "\"We are just entering 'dog-town,'\" said her papa; \"and those are the houses of the inhabitants. Do you see the two little fellows sitting up on that mound?\"\n",
      "\"Yes,\" said Annie; \"but they look like little fat squirrels; don't they, mamma?\"\n",
      "Baby pointed his little chubby finger, and said, \"Ish!\"\n",
      "\"They are prairie-dogs,\" said mamma; \"but are sometimes called the 'wish-ton-wish' and 'prairie marmot,' and sometimes 'prairie marmot squirrel.' It is like the marmot because it burrows in the ground, and like the squirrel because it has cheek-pouches.\"\n",
      "\"Well, what do they call them dogs for?\" said Annie.\n",
      "\"Let us stop and watch them,\" said her papa. \"Hark! do you hear them bark?\"\n",
      "\u001b[33m------------------------------\u001b[0m\n",
      "Train sample of \u001b[1m\u001b[33mMEDIUM\u001b[0m text with the target value: \u001b[1m\u001b[33m-0.47\u001b[0m\n",
      "\u001b[33m------------------------------\u001b[0m\n",
      "At Denver there was an influx of passengers into the coaches on the eastbound B. & M. Express. In one coach there sat a very pretty young woman dressed in elegant taste and surrounded by all the luxurious comforts of an experienced traveler. Among the newcomers were two young men, one of handsome presence with a bold, frank countenance and manner; the other a ruffled, glum-faced person, heavily built and roughly dressed. The two were handcuffed together.\n",
      "As they passed down the aisle of the coach the only vacant seat offered was a reversed one facing the attractive young woman. Here the linked couple seated themselves. The young woman's glance fell upon them with a distant, swift disinterest; then with a lovely smile brightening her countenance and a tender pink tingeing her rounded cheeks, she held out a little gray-gloved hand. When she spoke her voice, full, sweet, and deliberate, proclaimed that its owner was accustomed to speak and be heard.\n",
      "\"Well, Mr. Easton, if you will make me speak first, I suppose I must. Don't you ever recognize old friends when you meet them in the West?\"\n",
      "\u001b[31m------------------------------\u001b[0m\n",
      "Train sample of \u001b[1m\u001b[31mCOMPLEX\u001b[0m text with the target value: \u001b[1m\u001b[31m-2.06\u001b[0m\n",
      "\u001b[31m------------------------------\u001b[0m\n",
      "It had been decided that Walter should follow his father's profession, that of the law, and accordingly he entered his father's office, to serve a five years' apprenticeship. Though it may seem surprising, in view of his former indolence, it is true that he gave himself to his work with great industry. At the same time, however, he continued to read stories of adventure and history and other similar works with as much zest as ever, and entered into an agreement with a friend whereby each was to entertain the other with original romances. The monotony of office duties was also relieved by many trips about the country, in which the keenest delight was felt in natural beauties and in the historical associations of old ruins and battlefields and other places of like interest. Then, too, there were literary societies that advanced the young law-apprentice both intellectually and socially. Thus the years with his father passed. Then, as he was to prepare himself for admission to the bar, he entered law classes in the University of Edinburgh, with the result that in 1792 he was admitted into the Faculty of Advocates.\n"
     ]
    }
   ],
   "source": [
    "from termcolor import colored, cprint\n",
    "\n",
    "samples = get_samples(train)\n",
    "n_words = train['words_per_excerpt'].tolist()\n",
    "excerpt_features = [i for i in train.columns[-6:]]\n",
    "\n",
    "print(\n",
    "    colored(\n",
    "        f'Train contains {train.shape[0]}' \n",
    "        + f' excerpts, ranging from {min(n_words)} to {max(n_words)}' \n",
    "        + f' (avg {round(np.mean(n_words))}) words long.',\n",
    "        'yellow',\n",
    "        attrs=['bold']\n",
    "    )\n",
    ")\n",
    "\n",
    "for level, (target, text) in samples.items():\n",
    "    if target > 0:\n",
    "        color = 'green'\n",
    "    elif target < -2:\n",
    "        color = 'red'\n",
    "    else:\n",
    "        color = 'yellow'\n",
    "    print(colored('---' * 10, color))\n",
    "    level = colored(level.upper(), color, attrs=['bold'])\n",
    "    target = colored(target, color, attrs=['bold'])\n",
    "    print(f'Train sample of {level} text with the target value: {target}')\n",
    "    print(colored('---' * 10, color))\n",
    "    print(text)"
   ]
  },
  {
   "cell_type": "markdown",
   "id": "a9db42ee",
   "metadata": {},
   "source": [
    "### Complexity - textstat features"
   ]
  },
  {
   "cell_type": "code",
   "execution_count": 16,
   "id": "722acaad",
   "metadata": {
    "ExecuteTime": {
     "end_time": "2021-07-11T21:10:16.632201Z",
     "start_time": "2021-07-11T21:10:16.616199Z"
    }
   },
   "outputs": [],
   "source": [
    "import textstat\n",
    "\n",
    "def get_stat(df, col):\n",
    "    df['flesch_reading_ease'] = df[col].apply(lambda x: textstat.flesch_reading_ease(x))\n",
    "    df['flesch_kincaid_grade'] = df[col].apply(lambda x: textstat.flesch_kincaid_grade(x))\n",
    "    df['gunning_fog'] = df[col].apply(lambda x: textstat.gunning_fog(x))\n",
    "    df['smog_index'] = df[col].apply(lambda x: textstat.smog_index(x))\n",
    "    df['automated_readability_index'] = df[col].apply(lambda x: textstat.automated_readability_index(x))\n",
    "    df['coleman_liau_index'] = df[col].apply(lambda x: textstat.coleman_liau_index(x))\n",
    "    df['linsear_write_formula'] = df[col].apply(lambda x: textstat.linsear_write_formula(x))\n",
    "    df['dale_chall_readability_score'] = df[col].apply(lambda x: textstat.dale_chall_readability_score(x))\n",
    "    df['text_standard'] = df[col].apply(lambda x: textstat.text_standard(x, float_output=True))\n",
    "    return df"
   ]
  },
  {
   "cell_type": "code",
   "execution_count": 17,
   "id": "519cfe07",
   "metadata": {
    "ExecuteTime": {
     "end_time": "2021-07-11T21:10:24.909074Z",
     "start_time": "2021-07-11T21:10:17.614424Z"
    }
   },
   "outputs": [
    {
     "data": {
      "text/html": [
       "<div>\n",
       "<style scoped>\n",
       "    .dataframe tbody tr th:only-of-type {\n",
       "        vertical-align: middle;\n",
       "    }\n",
       "\n",
       "    .dataframe tbody tr th {\n",
       "        vertical-align: top;\n",
       "    }\n",
       "\n",
       "    .dataframe thead th {\n",
       "        text-align: right;\n",
       "    }\n",
       "</style>\n",
       "<table border=\"1\" class=\"dataframe\">\n",
       "  <thead>\n",
       "    <tr style=\"text-align: right;\">\n",
       "      <th></th>\n",
       "      <th>id</th>\n",
       "      <th>excerpt</th>\n",
       "      <th>target</th>\n",
       "      <th>standard_error</th>\n",
       "      <th>level</th>\n",
       "      <th>sentences_per_excerpt</th>\n",
       "      <th>words_per_excerpt</th>\n",
       "      <th>characters_per_excerpt</th>\n",
       "      <th>words_per_sentence</th>\n",
       "      <th>characters_per_sentense</th>\n",
       "      <th>characters_per_word</th>\n",
       "      <th>flesch_reading_ease</th>\n",
       "      <th>flesch_kincaid_grade</th>\n",
       "      <th>gunning_fog</th>\n",
       "      <th>smog_index</th>\n",
       "      <th>automated_readability_index</th>\n",
       "      <th>coleman_liau_index</th>\n",
       "      <th>linsear_write_formula</th>\n",
       "      <th>dale_chall_readability_score</th>\n",
       "      <th>text_standard</th>\n",
       "    </tr>\n",
       "  </thead>\n",
       "  <tbody>\n",
       "    <tr>\n",
       "      <th>0</th>\n",
       "      <td>c12129c31</td>\n",
       "      <td>When the young people returned to the ballroom...</td>\n",
       "      <td>-0.340259</td>\n",
       "      <td>0.464009</td>\n",
       "      <td>medium</td>\n",
       "      <td>11</td>\n",
       "      <td>179</td>\n",
       "      <td>992</td>\n",
       "      <td>16.272727</td>\n",
       "      <td>89.181818</td>\n",
       "      <td>4.547486</td>\n",
       "      <td>80.31</td>\n",
       "      <td>6.1</td>\n",
       "      <td>8.31</td>\n",
       "      <td>8.6</td>\n",
       "      <td>8.3</td>\n",
       "      <td>8.06</td>\n",
       "      <td>9.000000</td>\n",
       "      <td>6.65</td>\n",
       "      <td>9.0</td>\n",
       "    </tr>\n",
       "    <tr>\n",
       "      <th>1</th>\n",
       "      <td>85aa80a4c</td>\n",
       "      <td>All through dinner time, Mrs. Fayre was somewh...</td>\n",
       "      <td>-0.315372</td>\n",
       "      <td>0.480805</td>\n",
       "      <td>medium</td>\n",
       "      <td>10</td>\n",
       "      <td>169</td>\n",
       "      <td>937</td>\n",
       "      <td>17.100000</td>\n",
       "      <td>92.700000</td>\n",
       "      <td>4.550296</td>\n",
       "      <td>82.54</td>\n",
       "      <td>5.2</td>\n",
       "      <td>7.53</td>\n",
       "      <td>8.3</td>\n",
       "      <td>7.2</td>\n",
       "      <td>6.78</td>\n",
       "      <td>7.285714</td>\n",
       "      <td>5.92</td>\n",
       "      <td>8.0</td>\n",
       "    </tr>\n",
       "    <tr>\n",
       "      <th>2</th>\n",
       "      <td>b69ac6792</td>\n",
       "      <td>As Roger had predicted, the snow departed as q...</td>\n",
       "      <td>-0.580118</td>\n",
       "      <td>0.476676</td>\n",
       "      <td>medium</td>\n",
       "      <td>11</td>\n",
       "      <td>166</td>\n",
       "      <td>908</td>\n",
       "      <td>15.272727</td>\n",
       "      <td>81.454545</td>\n",
       "      <td>4.475904</td>\n",
       "      <td>75.74</td>\n",
       "      <td>7.9</td>\n",
       "      <td>10.49</td>\n",
       "      <td>10.1</td>\n",
       "      <td>10.1</td>\n",
       "      <td>7.20</td>\n",
       "      <td>14.750000</td>\n",
       "      <td>6.29</td>\n",
       "      <td>8.0</td>\n",
       "    </tr>\n",
       "    <tr>\n",
       "      <th>3</th>\n",
       "      <td>dd1000b26</td>\n",
       "      <td>And outside before the palace a great garden w...</td>\n",
       "      <td>-1.054013</td>\n",
       "      <td>0.450007</td>\n",
       "      <td>medium</td>\n",
       "      <td>5</td>\n",
       "      <td>164</td>\n",
       "      <td>909</td>\n",
       "      <td>32.800000</td>\n",
       "      <td>180.800000</td>\n",
       "      <td>4.548780</td>\n",
       "      <td>72.02</td>\n",
       "      <td>11.4</td>\n",
       "      <td>13.61</td>\n",
       "      <td>6.7</td>\n",
       "      <td>16.4</td>\n",
       "      <td>8.54</td>\n",
       "      <td>12.500000</td>\n",
       "      <td>6.61</td>\n",
       "      <td>7.0</td>\n",
       "    </tr>\n",
       "    <tr>\n",
       "      <th>4</th>\n",
       "      <td>37c1b32fb</td>\n",
       "      <td>Once upon a time there were Three Bears who li...</td>\n",
       "      <td>0.247197</td>\n",
       "      <td>0.510845</td>\n",
       "      <td>simple</td>\n",
       "      <td>5</td>\n",
       "      <td>147</td>\n",
       "      <td>723</td>\n",
       "      <td>29.400000</td>\n",
       "      <td>143.600000</td>\n",
       "      <td>3.925170</td>\n",
       "      <td>75.47</td>\n",
       "      <td>10.0</td>\n",
       "      <td>11.76</td>\n",
       "      <td>8.8</td>\n",
       "      <td>11.8</td>\n",
       "      <td>4.83</td>\n",
       "      <td>13.500000</td>\n",
       "      <td>1.57</td>\n",
       "      <td>12.0</td>\n",
       "    </tr>\n",
       "  </tbody>\n",
       "</table>\n",
       "</div>"
      ],
      "text/plain": [
       "          id                                            excerpt    target  \\\n",
       "0  c12129c31  When the young people returned to the ballroom... -0.340259   \n",
       "1  85aa80a4c  All through dinner time, Mrs. Fayre was somewh... -0.315372   \n",
       "2  b69ac6792  As Roger had predicted, the snow departed as q... -0.580118   \n",
       "3  dd1000b26  And outside before the palace a great garden w... -1.054013   \n",
       "4  37c1b32fb  Once upon a time there were Three Bears who li...  0.247197   \n",
       "\n",
       "   standard_error   level  sentences_per_excerpt  words_per_excerpt  \\\n",
       "0        0.464009  medium                     11                179   \n",
       "1        0.480805  medium                     10                169   \n",
       "2        0.476676  medium                     11                166   \n",
       "3        0.450007  medium                      5                164   \n",
       "4        0.510845  simple                      5                147   \n",
       "\n",
       "   characters_per_excerpt  words_per_sentence  characters_per_sentense  \\\n",
       "0                     992           16.272727                89.181818   \n",
       "1                     937           17.100000                92.700000   \n",
       "2                     908           15.272727                81.454545   \n",
       "3                     909           32.800000               180.800000   \n",
       "4                     723           29.400000               143.600000   \n",
       "\n",
       "   characters_per_word  flesch_reading_ease  flesch_kincaid_grade  \\\n",
       "0             4.547486                80.31                   6.1   \n",
       "1             4.550296                82.54                   5.2   \n",
       "2             4.475904                75.74                   7.9   \n",
       "3             4.548780                72.02                  11.4   \n",
       "4             3.925170                75.47                  10.0   \n",
       "\n",
       "   gunning_fog  smog_index  automated_readability_index  coleman_liau_index  \\\n",
       "0         8.31         8.6                          8.3                8.06   \n",
       "1         7.53         8.3                          7.2                6.78   \n",
       "2        10.49        10.1                         10.1                7.20   \n",
       "3        13.61         6.7                         16.4                8.54   \n",
       "4        11.76         8.8                         11.8                4.83   \n",
       "\n",
       "   linsear_write_formula  dale_chall_readability_score  text_standard  \n",
       "0               9.000000                          6.65            9.0  \n",
       "1               7.285714                          5.92            8.0  \n",
       "2              14.750000                          6.29            8.0  \n",
       "3              12.500000                          6.61            7.0  \n",
       "4              13.500000                          1.57           12.0  "
      ]
     },
     "execution_count": 17,
     "metadata": {},
     "output_type": "execute_result"
    }
   ],
   "source": [
    "train = get_stat(train, 'excerpt')\n",
    "textstat_features = train.columns[-9:].tolist()\n",
    "train.head()"
   ]
  },
  {
   "cell_type": "code",
   "execution_count": null,
   "id": "73016517",
   "metadata": {},
   "outputs": [],
   "source": []
  }
 ],
 "metadata": {
  "kernelspec": {
   "display_name": "Python 3",
   "language": "python",
   "name": "python3"
  },
  "language_info": {
   "codemirror_mode": {
    "name": "ipython",
    "version": 3
   },
   "file_extension": ".py",
   "mimetype": "text/x-python",
   "name": "python",
   "nbconvert_exporter": "python",
   "pygments_lexer": "ipython3",
   "version": "3.8.8"
  },
  "toc": {
   "base_numbering": 1,
   "nav_menu": {},
   "number_sections": true,
   "sideBar": true,
   "skip_h1_title": false,
   "title_cell": "Table of Contents",
   "title_sidebar": "Contents",
   "toc_cell": false,
   "toc_position": {},
   "toc_section_display": true,
   "toc_window_display": false
  },
  "varInspector": {
   "cols": {
    "lenName": 16,
    "lenType": 16,
    "lenVar": 40
   },
   "kernels_config": {
    "python": {
     "delete_cmd_postfix": "",
     "delete_cmd_prefix": "del ",
     "library": "var_list.py",
     "varRefreshCmd": "print(var_dic_list())"
    },
    "r": {
     "delete_cmd_postfix": ") ",
     "delete_cmd_prefix": "rm(",
     "library": "var_list.r",
     "varRefreshCmd": "cat(var_dic_list()) "
    }
   },
   "types_to_exclude": [
    "module",
    "function",
    "builtin_function_or_method",
    "instance",
    "_Feature"
   ],
   "window_display": false
  }
 },
 "nbformat": 4,
 "nbformat_minor": 5
}
