{
 "cells": [
  {
   "cell_type": "code",
   "execution_count": 32,
   "id": "17a6053a",
   "metadata": {
    "ExecuteTime": {
     "end_time": "2021-07-16T14:15:51.871095Z",
     "start_time": "2021-07-16T14:15:48.653755Z"
    }
   },
   "outputs": [
    {
     "name": "stdout",
     "output_type": "stream",
     "text": [
      "Collecting tabulate\n",
      "  Downloading tabulate-0.8.9-py3-none-any.whl (25 kB)\n",
      "Installing collected packages: tabulate\n",
      "Successfully installed tabulate-0.8.9\n"
     ]
    }
   ],
   "source": [
    "!pip install tabulate"
   ]
  },
  {
   "cell_type": "code",
   "execution_count": 6,
   "id": "6936a98e",
   "metadata": {
    "ExecuteTime": {
     "end_time": "2021-07-16T13:46:40.655914Z",
     "start_time": "2021-07-16T13:46:40.074740Z"
    }
   },
   "outputs": [],
   "source": [
    "import numpy as np\n",
    "import pandas as pd"
   ]
  },
  {
   "cell_type": "code",
   "execution_count": 7,
   "id": "17c0406a",
   "metadata": {
    "ExecuteTime": {
     "end_time": "2021-07-16T13:46:41.358391Z",
     "start_time": "2021-07-16T13:46:41.302379Z"
    }
   },
   "outputs": [
    {
     "data": {
      "text/html": [
       "<div>\n",
       "<style scoped>\n",
       "    .dataframe tbody tr th:only-of-type {\n",
       "        vertical-align: middle;\n",
       "    }\n",
       "\n",
       "    .dataframe tbody tr th {\n",
       "        vertical-align: top;\n",
       "    }\n",
       "\n",
       "    .dataframe thead th {\n",
       "        text-align: right;\n",
       "    }\n",
       "</style>\n",
       "<table border=\"1\" class=\"dataframe\">\n",
       "  <thead>\n",
       "    <tr style=\"text-align: right;\">\n",
       "      <th></th>\n",
       "      <th>id</th>\n",
       "      <th>url_legal</th>\n",
       "      <th>license</th>\n",
       "      <th>excerpt</th>\n",
       "      <th>target</th>\n",
       "      <th>standard_error</th>\n",
       "    </tr>\n",
       "  </thead>\n",
       "  <tbody>\n",
       "    <tr>\n",
       "      <th>0</th>\n",
       "      <td>c12129c31</td>\n",
       "      <td>NaN</td>\n",
       "      <td>NaN</td>\n",
       "      <td>When the young people returned to the ballroom...</td>\n",
       "      <td>-0.340259</td>\n",
       "      <td>0.464009</td>\n",
       "    </tr>\n",
       "    <tr>\n",
       "      <th>1</th>\n",
       "      <td>85aa80a4c</td>\n",
       "      <td>NaN</td>\n",
       "      <td>NaN</td>\n",
       "      <td>All through dinner time, Mrs. Fayre was somewh...</td>\n",
       "      <td>-0.315372</td>\n",
       "      <td>0.480805</td>\n",
       "    </tr>\n",
       "    <tr>\n",
       "      <th>2</th>\n",
       "      <td>b69ac6792</td>\n",
       "      <td>NaN</td>\n",
       "      <td>NaN</td>\n",
       "      <td>As Roger had predicted, the snow departed as q...</td>\n",
       "      <td>-0.580118</td>\n",
       "      <td>0.476676</td>\n",
       "    </tr>\n",
       "    <tr>\n",
       "      <th>3</th>\n",
       "      <td>dd1000b26</td>\n",
       "      <td>NaN</td>\n",
       "      <td>NaN</td>\n",
       "      <td>And outside before the palace a great garden w...</td>\n",
       "      <td>-1.054013</td>\n",
       "      <td>0.450007</td>\n",
       "    </tr>\n",
       "    <tr>\n",
       "      <th>4</th>\n",
       "      <td>37c1b32fb</td>\n",
       "      <td>NaN</td>\n",
       "      <td>NaN</td>\n",
       "      <td>Once upon a time there were Three Bears who li...</td>\n",
       "      <td>0.247197</td>\n",
       "      <td>0.510845</td>\n",
       "    </tr>\n",
       "  </tbody>\n",
       "</table>\n",
       "</div>"
      ],
      "text/plain": [
       "          id url_legal license  \\\n",
       "0  c12129c31       NaN     NaN   \n",
       "1  85aa80a4c       NaN     NaN   \n",
       "2  b69ac6792       NaN     NaN   \n",
       "3  dd1000b26       NaN     NaN   \n",
       "4  37c1b32fb       NaN     NaN   \n",
       "\n",
       "                                             excerpt    target  standard_error  \n",
       "0  When the young people returned to the ballroom... -0.340259        0.464009  \n",
       "1  All through dinner time, Mrs. Fayre was somewh... -0.315372        0.480805  \n",
       "2  As Roger had predicted, the snow departed as q... -0.580118        0.476676  \n",
       "3  And outside before the palace a great garden w... -1.054013        0.450007  \n",
       "4  Once upon a time there were Three Bears who li...  0.247197        0.510845  "
      ]
     },
     "execution_count": 7,
     "metadata": {},
     "output_type": "execute_result"
    }
   ],
   "source": [
    "train = pd.read_csv(\"train.csv\")\n",
    "train.head()"
   ]
  },
  {
   "cell_type": "code",
   "execution_count": 8,
   "id": "b79b2c29",
   "metadata": {
    "ExecuteTime": {
     "end_time": "2021-07-16T13:46:43.810342Z",
     "start_time": "2021-07-16T13:46:43.804340Z"
    }
   },
   "outputs": [],
   "source": [
    "# Since there is no url_legal and license info in the hidden testing dataset\n",
    "# These two columns are meaningless for our model\n",
    "train = train.drop(['url_legal', 'license'], axis=1)"
   ]
  },
  {
   "cell_type": "markdown",
   "id": "549a51b5",
   "metadata": {},
   "source": [
    "## Pre-processing\n",
    "Word:\n",
    "\n",
    "    1. less common words are usually more complex\n",
    "    2. Longer words are usually more complex\n",
    "    \n",
    "Sentence:\n",
    "\n",
    "    1. Longer sentence are usually more complex"
   ]
  },
  {
   "cell_type": "markdown",
   "id": "2aa96aea",
   "metadata": {},
   "source": [
    "### Meta data - excerpt features"
   ]
  },
  {
   "cell_type": "code",
   "execution_count": 9,
   "id": "3a2ad94e",
   "metadata": {
    "ExecuteTime": {
     "end_time": "2021-07-16T13:46:47.122050Z",
     "start_time": "2021-07-16T13:46:47.103044Z"
    }
   },
   "outputs": [],
   "source": [
    "# get the meta data for each excerpt\n",
    "def get_meta(df, col):\n",
    "    \n",
    "    # Add meta data\n",
    "    df['sentences_per_excerpt'] = df[col].apply(lambda x: x.count('.'))\n",
    "    df['words_per_excerpt'] = df[col].str.split().map(lambda x: len(x))\n",
    "    df['characters_per_excerpt'] = df[col].apply(lambda x: len(x))\n",
    "\n",
    "    df['words_per_sentence'] = df[col].str.split('.').apply(\n",
    "    lambda x: [len(i.split()) for i in x]).map(\n",
    "    lambda x: np.mean(x[:-1])\n",
    "    )\n",
    "    df['characters_per_sentense'] = df[col].str.split('.').apply(\n",
    "    lambda x: [len(i) for i in x]).map(\n",
    "    lambda x: np.mean(x[:-1])\n",
    "    )\n",
    "    df['characters_per_word'] = df[col].str.split().apply(\n",
    "    lambda x: [len(i) for i in x]).map(\n",
    "    lambda x: np.mean(x)\n",
    "    )\n",
    "    return df"
   ]
  },
  {
   "cell_type": "code",
   "execution_count": 10,
   "id": "bb8d8102",
   "metadata": {
    "ExecuteTime": {
     "end_time": "2021-07-16T13:46:48.139797Z",
     "start_time": "2021-07-16T13:46:47.892741Z"
    }
   },
   "outputs": [],
   "source": [
    "train = get_meta(train, 'excerpt')"
   ]
  },
  {
   "cell_type": "code",
   "execution_count": 11,
   "id": "e21bc2cd",
   "metadata": {
    "ExecuteTime": {
     "end_time": "2021-07-16T13:46:48.688353Z",
     "start_time": "2021-07-16T13:46:48.665348Z"
    }
   },
   "outputs": [
    {
     "data": {
      "text/html": [
       "<div>\n",
       "<style scoped>\n",
       "    .dataframe tbody tr th:only-of-type {\n",
       "        vertical-align: middle;\n",
       "    }\n",
       "\n",
       "    .dataframe tbody tr th {\n",
       "        vertical-align: top;\n",
       "    }\n",
       "\n",
       "    .dataframe thead th {\n",
       "        text-align: right;\n",
       "    }\n",
       "</style>\n",
       "<table border=\"1\" class=\"dataframe\">\n",
       "  <thead>\n",
       "    <tr style=\"text-align: right;\">\n",
       "      <th></th>\n",
       "      <th>id</th>\n",
       "      <th>excerpt</th>\n",
       "      <th>target</th>\n",
       "      <th>standard_error</th>\n",
       "      <th>sentences_per_excerpt</th>\n",
       "      <th>words_per_excerpt</th>\n",
       "      <th>characters_per_excerpt</th>\n",
       "      <th>words_per_sentence</th>\n",
       "      <th>characters_per_sentense</th>\n",
       "      <th>characters_per_word</th>\n",
       "    </tr>\n",
       "  </thead>\n",
       "  <tbody>\n",
       "    <tr>\n",
       "      <th>0</th>\n",
       "      <td>c12129c31</td>\n",
       "      <td>When the young people returned to the ballroom...</td>\n",
       "      <td>-0.340259</td>\n",
       "      <td>0.464009</td>\n",
       "      <td>11</td>\n",
       "      <td>179</td>\n",
       "      <td>992</td>\n",
       "      <td>16.272727</td>\n",
       "      <td>89.181818</td>\n",
       "      <td>4.547486</td>\n",
       "    </tr>\n",
       "    <tr>\n",
       "      <th>1</th>\n",
       "      <td>85aa80a4c</td>\n",
       "      <td>All through dinner time, Mrs. Fayre was somewh...</td>\n",
       "      <td>-0.315372</td>\n",
       "      <td>0.480805</td>\n",
       "      <td>10</td>\n",
       "      <td>169</td>\n",
       "      <td>937</td>\n",
       "      <td>17.100000</td>\n",
       "      <td>92.700000</td>\n",
       "      <td>4.550296</td>\n",
       "    </tr>\n",
       "    <tr>\n",
       "      <th>2</th>\n",
       "      <td>b69ac6792</td>\n",
       "      <td>As Roger had predicted, the snow departed as q...</td>\n",
       "      <td>-0.580118</td>\n",
       "      <td>0.476676</td>\n",
       "      <td>11</td>\n",
       "      <td>166</td>\n",
       "      <td>908</td>\n",
       "      <td>15.272727</td>\n",
       "      <td>81.454545</td>\n",
       "      <td>4.475904</td>\n",
       "    </tr>\n",
       "    <tr>\n",
       "      <th>3</th>\n",
       "      <td>dd1000b26</td>\n",
       "      <td>And outside before the palace a great garden w...</td>\n",
       "      <td>-1.054013</td>\n",
       "      <td>0.450007</td>\n",
       "      <td>5</td>\n",
       "      <td>164</td>\n",
       "      <td>909</td>\n",
       "      <td>32.800000</td>\n",
       "      <td>180.800000</td>\n",
       "      <td>4.548780</td>\n",
       "    </tr>\n",
       "    <tr>\n",
       "      <th>4</th>\n",
       "      <td>37c1b32fb</td>\n",
       "      <td>Once upon a time there were Three Bears who li...</td>\n",
       "      <td>0.247197</td>\n",
       "      <td>0.510845</td>\n",
       "      <td>5</td>\n",
       "      <td>147</td>\n",
       "      <td>723</td>\n",
       "      <td>29.400000</td>\n",
       "      <td>143.600000</td>\n",
       "      <td>3.925170</td>\n",
       "    </tr>\n",
       "  </tbody>\n",
       "</table>\n",
       "</div>"
      ],
      "text/plain": [
       "          id                                            excerpt    target  \\\n",
       "0  c12129c31  When the young people returned to the ballroom... -0.340259   \n",
       "1  85aa80a4c  All through dinner time, Mrs. Fayre was somewh... -0.315372   \n",
       "2  b69ac6792  As Roger had predicted, the snow departed as q... -0.580118   \n",
       "3  dd1000b26  And outside before the palace a great garden w... -1.054013   \n",
       "4  37c1b32fb  Once upon a time there were Three Bears who li...  0.247197   \n",
       "\n",
       "   standard_error  sentences_per_excerpt  words_per_excerpt  \\\n",
       "0        0.464009                     11                179   \n",
       "1        0.480805                     10                169   \n",
       "2        0.476676                     11                166   \n",
       "3        0.450007                      5                164   \n",
       "4        0.510845                      5                147   \n",
       "\n",
       "   characters_per_excerpt  words_per_sentence  characters_per_sentense  \\\n",
       "0                     992           16.272727                89.181818   \n",
       "1                     937           17.100000                92.700000   \n",
       "2                     908           15.272727                81.454545   \n",
       "3                     909           32.800000               180.800000   \n",
       "4                     723           29.400000               143.600000   \n",
       "\n",
       "   characters_per_word  \n",
       "0             4.547486  \n",
       "1             4.550296  \n",
       "2             4.475904  \n",
       "3             4.548780  \n",
       "4             3.925170  "
      ]
     },
     "execution_count": 11,
     "metadata": {},
     "output_type": "execute_result"
    }
   ],
   "source": [
    "train.head()"
   ]
  },
  {
   "cell_type": "markdown",
   "id": "96d1b6b3",
   "metadata": {},
   "source": [
    "### words features"
   ]
  },
  {
   "cell_type": "code",
   "execution_count": 14,
   "id": "c1d922a8",
   "metadata": {
    "ExecuteTime": {
     "end_time": "2021-07-16T13:47:09.067769Z",
     "start_time": "2021-07-16T13:47:09.062770Z"
    }
   },
   "outputs": [],
   "source": [
    "import regex as re\n",
    "import nltk\n",
    "from nltk.util import ngrams\n",
    "\n",
    "def tokenize(text):\n",
    "    return re.findall(r'[\\w-]*\\p{L}[\\w-]*', text)\n",
    "\n",
    "\n",
    "# Remove stop words\n",
    "stopwords = nltk.corpus.stopwords.words('english')\n",
    "\n",
    "def remove_stopwords(tokens):\n",
    "    return [token for token in tokens if token not in stopwords]\n",
    "\n",
    "\n",
    "# Piplene\n",
    "pipeline = [str.lower, tokenize, remove_stopwords]\n",
    "\n",
    "\n",
    "# Preprocess\n",
    "def preprocess(text, pipeline):\n",
    "    tokens = text\n",
    "    for transform in pipeline:\n",
    "        tokens = transform(tokens)\n",
    "    return tokens\n"
   ]
  },
  {
   "cell_type": "code",
   "execution_count": 15,
   "id": "939d86a4",
   "metadata": {
    "ExecuteTime": {
     "end_time": "2021-07-16T13:47:11.450956Z",
     "start_time": "2021-07-16T13:47:10.578750Z"
    }
   },
   "outputs": [],
   "source": [
    "train['tokens'] = train['excerpt'].apply(preprocess, pipeline=pipeline)"
   ]
  },
  {
   "cell_type": "code",
   "execution_count": 19,
   "id": "5c658728",
   "metadata": {
    "ExecuteTime": {
     "end_time": "2021-07-16T13:52:46.039808Z",
     "start_time": "2021-07-16T13:52:46.030807Z"
    }
   },
   "outputs": [],
   "source": [
    "from collections import defaultdict, Counter\n",
    "\n",
    "def count_words(df, column='tokens', preprocess=None, min_freq=2):\n",
    "\n",
    "    # Process tokens and update counter\n",
    "    def update(doc):\n",
    "        tokens = doc if preprocess is None else preprocess(doc)\n",
    "        counter.update(tokens)\n",
    "\n",
    "    # Create counter and run through all data\n",
    "    counter = Counter()\n",
    "    df[column].map(update)\n",
    "\n",
    "    # Transform counter into data frame\n",
    "    freq_df = pd.DataFrame.from_dict(counter, orient='index', columns=['frequency'])\n",
    "    freq_df = freq_df.query('frequency >= @min_freq')\n",
    "    freq_df.index.name = column\n",
    "    \n",
    "    return freq_df.sort_values('frequency', ascending=False)"
   ]
  },
  {
   "cell_type": "code",
   "execution_count": 20,
   "id": "1eb5d936",
   "metadata": {
    "ExecuteTime": {
     "end_time": "2021-07-16T13:52:46.930581Z",
     "start_time": "2021-07-16T13:52:46.863592Z"
    }
   },
   "outputs": [
    {
     "data": {
      "text/html": [
       "<div>\n",
       "<style scoped>\n",
       "    .dataframe tbody tr th:only-of-type {\n",
       "        vertical-align: middle;\n",
       "    }\n",
       "\n",
       "    .dataframe tbody tr th {\n",
       "        vertical-align: top;\n",
       "    }\n",
       "\n",
       "    .dataframe thead th {\n",
       "        text-align: right;\n",
       "    }\n",
       "</style>\n",
       "<table border=\"1\" class=\"dataframe\">\n",
       "  <thead>\n",
       "    <tr style=\"text-align: right;\">\n",
       "      <th></th>\n",
       "      <th>frequency</th>\n",
       "    </tr>\n",
       "    <tr>\n",
       "      <th>tokens</th>\n",
       "      <th></th>\n",
       "    </tr>\n",
       "  </thead>\n",
       "  <tbody>\n",
       "    <tr>\n",
       "      <th>one</th>\n",
       "      <td>1919</td>\n",
       "    </tr>\n",
       "    <tr>\n",
       "      <th>little</th>\n",
       "      <td>1137</td>\n",
       "    </tr>\n",
       "    <tr>\n",
       "      <th>would</th>\n",
       "      <td>1134</td>\n",
       "    </tr>\n",
       "    <tr>\n",
       "      <th>said</th>\n",
       "      <td>1112</td>\n",
       "    </tr>\n",
       "    <tr>\n",
       "      <th>could</th>\n",
       "      <td>905</td>\n",
       "    </tr>\n",
       "    <tr>\n",
       "      <th>...</th>\n",
       "      <td>...</td>\n",
       "    </tr>\n",
       "    <tr>\n",
       "      <th>grotesque</th>\n",
       "      <td>2</td>\n",
       "    </tr>\n",
       "    <tr>\n",
       "      <th>joys</th>\n",
       "      <td>2</td>\n",
       "    </tr>\n",
       "    <tr>\n",
       "      <th>equinox</th>\n",
       "      <td>2</td>\n",
       "    </tr>\n",
       "    <tr>\n",
       "      <th>cleverness</th>\n",
       "      <td>2</td>\n",
       "    </tr>\n",
       "    <tr>\n",
       "      <th>bretelle</th>\n",
       "      <td>2</td>\n",
       "    </tr>\n",
       "  </tbody>\n",
       "</table>\n",
       "<p>15640 rows × 1 columns</p>\n",
       "</div>"
      ],
      "text/plain": [
       "            frequency\n",
       "tokens               \n",
       "one              1919\n",
       "little           1137\n",
       "would            1134\n",
       "said             1112\n",
       "could             905\n",
       "...               ...\n",
       "grotesque           2\n",
       "joys                2\n",
       "equinox             2\n",
       "cleverness          2\n",
       "bretelle            2\n",
       "\n",
       "[15640 rows x 1 columns]"
      ]
     },
     "execution_count": 20,
     "metadata": {},
     "output_type": "execute_result"
    }
   ],
   "source": [
    "freq_df = count_words(train)\n",
    "freq_df"
   ]
  },
  {
   "cell_type": "code",
   "execution_count": 24,
   "id": "31916278",
   "metadata": {
    "ExecuteTime": {
     "end_time": "2021-07-16T13:57:47.061415Z",
     "start_time": "2021-07-16T13:57:46.835764Z"
    }
   },
   "outputs": [],
   "source": [
    "freq_dict = freq_df.frequency.to_dict()\n",
    "# rare words\n",
    "rare_words = {k: v for k, v in freq_dict.items() if v <= 5}\n",
    "# common_words\n",
    "common_words = {k: v for k, v in freq_dict.items() if v > 100}\n",
    "# long words\n",
    "long_df = count_words(\n",
    "    train,\n",
    "    column='excerpt',\n",
    "    preprocess=lambda text: re.findall(r'\\w{6,}', text),\n",
    ")\n",
    "long_words = long_df.frequency.to_dict()\n",
    "\n",
    "def count_freq(corpus, vocab):\n",
    "    counter = 0\n",
    "    for word in vocab:\n",
    "        if word in corpus:\n",
    "            counter += 1\n",
    "    return counter\n",
    "\n",
    "def token_stats (df, col):\n",
    "    \n",
    "    df['rare_tokens'] = df[col].apply(count_freq, vocab=rare_words)\n",
    "    df['common_tokens'] = df[col].apply(count_freq, vocab=common_words)\n",
    "    df['long_tokens'] = df[col].apply(count_freq, vocab=long_words)\n",
    "    \n",
    "    return df"
   ]
  },
  {
   "cell_type": "code",
   "execution_count": 25,
   "id": "d3dffaff",
   "metadata": {
    "ExecuteTime": {
     "end_time": "2021-07-16T13:58:34.962534Z",
     "start_time": "2021-07-16T13:57:48.258938Z"
    }
   },
   "outputs": [],
   "source": [
    "train = token_stats(train, 'tokens')"
   ]
  },
  {
   "cell_type": "code",
   "execution_count": 26,
   "id": "30b02f80",
   "metadata": {
    "ExecuteTime": {
     "end_time": "2021-07-16T14:10:00.666315Z",
     "start_time": "2021-07-16T14:10:00.634307Z"
    }
   },
   "outputs": [
    {
     "data": {
      "text/html": [
       "<div>\n",
       "<style scoped>\n",
       "    .dataframe tbody tr th:only-of-type {\n",
       "        vertical-align: middle;\n",
       "    }\n",
       "\n",
       "    .dataframe tbody tr th {\n",
       "        vertical-align: top;\n",
       "    }\n",
       "\n",
       "    .dataframe thead th {\n",
       "        text-align: right;\n",
       "    }\n",
       "</style>\n",
       "<table border=\"1\" class=\"dataframe\">\n",
       "  <thead>\n",
       "    <tr style=\"text-align: right;\">\n",
       "      <th></th>\n",
       "      <th>id</th>\n",
       "      <th>excerpt</th>\n",
       "      <th>target</th>\n",
       "      <th>standard_error</th>\n",
       "      <th>sentences_per_excerpt</th>\n",
       "      <th>words_per_excerpt</th>\n",
       "      <th>characters_per_excerpt</th>\n",
       "      <th>words_per_sentence</th>\n",
       "      <th>characters_per_sentense</th>\n",
       "      <th>characters_per_word</th>\n",
       "      <th>...</th>\n",
       "      <th>smog_index</th>\n",
       "      <th>automated_readability_index</th>\n",
       "      <th>coleman_liau_index</th>\n",
       "      <th>linsear_write_formula</th>\n",
       "      <th>dale_chall_readability_score</th>\n",
       "      <th>text_standard</th>\n",
       "      <th>tokens</th>\n",
       "      <th>rare_tokens</th>\n",
       "      <th>common_tokens</th>\n",
       "      <th>long_tokens</th>\n",
       "    </tr>\n",
       "  </thead>\n",
       "  <tbody>\n",
       "    <tr>\n",
       "      <th>0</th>\n",
       "      <td>c12129c31</td>\n",
       "      <td>When the young people returned to the ballroom...</td>\n",
       "      <td>-0.340259</td>\n",
       "      <td>0.464009</td>\n",
       "      <td>11</td>\n",
       "      <td>179</td>\n",
       "      <td>992</td>\n",
       "      <td>16.272727</td>\n",
       "      <td>89.181818</td>\n",
       "      <td>4.547486</td>\n",
       "      <td>...</td>\n",
       "      <td>8.6</td>\n",
       "      <td>8.3</td>\n",
       "      <td>8.06</td>\n",
       "      <td>9.000000</td>\n",
       "      <td>6.65</td>\n",
       "      <td>9.0</td>\n",
       "      <td>[young, people, returned, ballroom, presented,...</td>\n",
       "      <td>10</td>\n",
       "      <td>16</td>\n",
       "      <td>35</td>\n",
       "    </tr>\n",
       "    <tr>\n",
       "      <th>1</th>\n",
       "      <td>85aa80a4c</td>\n",
       "      <td>All through dinner time, Mrs. Fayre was somewh...</td>\n",
       "      <td>-0.315372</td>\n",
       "      <td>0.480805</td>\n",
       "      <td>10</td>\n",
       "      <td>169</td>\n",
       "      <td>937</td>\n",
       "      <td>17.100000</td>\n",
       "      <td>92.700000</td>\n",
       "      <td>4.550296</td>\n",
       "      <td>...</td>\n",
       "      <td>8.3</td>\n",
       "      <td>7.2</td>\n",
       "      <td>6.78</td>\n",
       "      <td>7.285714</td>\n",
       "      <td>5.92</td>\n",
       "      <td>8.0</td>\n",
       "      <td>[dinner, time, mrs, fayre, somewhat, silent, e...</td>\n",
       "      <td>9</td>\n",
       "      <td>32</td>\n",
       "      <td>29</td>\n",
       "    </tr>\n",
       "    <tr>\n",
       "      <th>2</th>\n",
       "      <td>b69ac6792</td>\n",
       "      <td>As Roger had predicted, the snow departed as q...</td>\n",
       "      <td>-0.580118</td>\n",
       "      <td>0.476676</td>\n",
       "      <td>11</td>\n",
       "      <td>166</td>\n",
       "      <td>908</td>\n",
       "      <td>15.272727</td>\n",
       "      <td>81.454545</td>\n",
       "      <td>4.475904</td>\n",
       "      <td>...</td>\n",
       "      <td>10.1</td>\n",
       "      <td>10.1</td>\n",
       "      <td>7.20</td>\n",
       "      <td>14.750000</td>\n",
       "      <td>6.29</td>\n",
       "      <td>8.0</td>\n",
       "      <td>[roger, predicted, snow, departed, quickly, ca...</td>\n",
       "      <td>7</td>\n",
       "      <td>27</td>\n",
       "      <td>23</td>\n",
       "    </tr>\n",
       "    <tr>\n",
       "      <th>3</th>\n",
       "      <td>dd1000b26</td>\n",
       "      <td>And outside before the palace a great garden w...</td>\n",
       "      <td>-1.054013</td>\n",
       "      <td>0.450007</td>\n",
       "      <td>5</td>\n",
       "      <td>164</td>\n",
       "      <td>909</td>\n",
       "      <td>32.800000</td>\n",
       "      <td>180.800000</td>\n",
       "      <td>4.548780</td>\n",
       "      <td>...</td>\n",
       "      <td>6.7</td>\n",
       "      <td>16.4</td>\n",
       "      <td>8.54</td>\n",
       "      <td>12.500000</td>\n",
       "      <td>6.61</td>\n",
       "      <td>7.0</td>\n",
       "      <td>[outside, palace, great, garden, walled, round...</td>\n",
       "      <td>16</td>\n",
       "      <td>21</td>\n",
       "      <td>30</td>\n",
       "    </tr>\n",
       "    <tr>\n",
       "      <th>4</th>\n",
       "      <td>37c1b32fb</td>\n",
       "      <td>Once upon a time there were Three Bears who li...</td>\n",
       "      <td>0.247197</td>\n",
       "      <td>0.510845</td>\n",
       "      <td>5</td>\n",
       "      <td>147</td>\n",
       "      <td>723</td>\n",
       "      <td>29.400000</td>\n",
       "      <td>143.600000</td>\n",
       "      <td>3.925170</td>\n",
       "      <td>...</td>\n",
       "      <td>8.8</td>\n",
       "      <td>11.8</td>\n",
       "      <td>4.83</td>\n",
       "      <td>13.500000</td>\n",
       "      <td>1.57</td>\n",
       "      <td>12.0</td>\n",
       "      <td>[upon, time, three, bears, lived, together, ho...</td>\n",
       "      <td>2</td>\n",
       "      <td>12</td>\n",
       "      <td>4</td>\n",
       "    </tr>\n",
       "  </tbody>\n",
       "</table>\n",
       "<p>5 rows × 23 columns</p>\n",
       "</div>"
      ],
      "text/plain": [
       "          id                                            excerpt    target  \\\n",
       "0  c12129c31  When the young people returned to the ballroom... -0.340259   \n",
       "1  85aa80a4c  All through dinner time, Mrs. Fayre was somewh... -0.315372   \n",
       "2  b69ac6792  As Roger had predicted, the snow departed as q... -0.580118   \n",
       "3  dd1000b26  And outside before the palace a great garden w... -1.054013   \n",
       "4  37c1b32fb  Once upon a time there were Three Bears who li...  0.247197   \n",
       "\n",
       "   standard_error  sentences_per_excerpt  words_per_excerpt  \\\n",
       "0        0.464009                     11                179   \n",
       "1        0.480805                     10                169   \n",
       "2        0.476676                     11                166   \n",
       "3        0.450007                      5                164   \n",
       "4        0.510845                      5                147   \n",
       "\n",
       "   characters_per_excerpt  words_per_sentence  characters_per_sentense  \\\n",
       "0                     992           16.272727                89.181818   \n",
       "1                     937           17.100000                92.700000   \n",
       "2                     908           15.272727                81.454545   \n",
       "3                     909           32.800000               180.800000   \n",
       "4                     723           29.400000               143.600000   \n",
       "\n",
       "   characters_per_word  ...  smog_index  automated_readability_index  \\\n",
       "0             4.547486  ...         8.6                          8.3   \n",
       "1             4.550296  ...         8.3                          7.2   \n",
       "2             4.475904  ...        10.1                         10.1   \n",
       "3             4.548780  ...         6.7                         16.4   \n",
       "4             3.925170  ...         8.8                         11.8   \n",
       "\n",
       "   coleman_liau_index  linsear_write_formula  dale_chall_readability_score  \\\n",
       "0                8.06               9.000000                          6.65   \n",
       "1                6.78               7.285714                          5.92   \n",
       "2                7.20              14.750000                          6.29   \n",
       "3                8.54              12.500000                          6.61   \n",
       "4                4.83              13.500000                          1.57   \n",
       "\n",
       "   text_standard                                             tokens  \\\n",
       "0            9.0  [young, people, returned, ballroom, presented,...   \n",
       "1            8.0  [dinner, time, mrs, fayre, somewhat, silent, e...   \n",
       "2            8.0  [roger, predicted, snow, departed, quickly, ca...   \n",
       "3            7.0  [outside, palace, great, garden, walled, round...   \n",
       "4           12.0  [upon, time, three, bears, lived, together, ho...   \n",
       "\n",
       "   rare_tokens  common_tokens long_tokens  \n",
       "0           10             16          35  \n",
       "1            9             32          29  \n",
       "2            7             27          23  \n",
       "3           16             21          30  \n",
       "4            2             12           4  \n",
       "\n",
       "[5 rows x 23 columns]"
      ]
     },
     "execution_count": 26,
     "metadata": {},
     "output_type": "execute_result"
    }
   ],
   "source": [
    "train.head()"
   ]
  },
  {
   "cell_type": "markdown",
   "id": "af7258bc",
   "metadata": {},
   "source": [
    "## Model"
   ]
  },
  {
   "cell_type": "markdown",
   "id": "1e82eda6",
   "metadata": {},
   "source": [
    "### Model Selection"
   ]
  },
  {
   "cell_type": "code",
   "execution_count": 37,
   "id": "2a441316",
   "metadata": {
    "ExecuteTime": {
     "end_time": "2021-07-16T14:19:05.606278Z",
     "start_time": "2021-07-16T14:19:05.601278Z"
    }
   },
   "outputs": [],
   "source": [
    "from sklearn.model_selection import train_test_split\n",
    "from sklearn.metrics import mean_squared_error\n",
    "from sklearn.linear_model import LinearRegression\n",
    "from tabulate import tabulate\n",
    "from xgboost import XGBRegressor"
   ]
  },
  {
   "cell_type": "code",
   "execution_count": 28,
   "id": "05a87e1d",
   "metadata": {
    "ExecuteTime": {
     "end_time": "2021-07-16T14:14:57.166822Z",
     "start_time": "2021-07-16T14:14:57.152818Z"
    }
   },
   "outputs": [],
   "source": [
    "cat_col = ['id', 'excerpt', 'target', 'standard_error', 'tokens']\n",
    "X = train.drop(cat_col, axis=1)\n",
    "y = train['target']"
   ]
  },
  {
   "cell_type": "code",
   "execution_count": 29,
   "id": "8db6a727",
   "metadata": {
    "ExecuteTime": {
     "end_time": "2021-07-16T14:14:57.855769Z",
     "start_time": "2021-07-16T14:14:57.837765Z"
    }
   },
   "outputs": [],
   "source": [
    "X_train, X_valid, y_train, y_valid = train_test_split(X, y, test_size=0.2, random_state=42)"
   ]
  },
  {
   "cell_type": "code",
   "execution_count": 38,
   "id": "9ec634a8",
   "metadata": {
    "ExecuteTime": {
     "end_time": "2021-07-16T14:19:07.749824Z",
     "start_time": "2021-07-16T14:19:07.475762Z"
    }
   },
   "outputs": [
    {
     "name": "stdout",
     "output_type": "stream",
     "text": [
      "Model                                                                               RMSE\n",
      "------------------------------------------------------------------------------  --------\n",
      "LinearRegression()                                                              0.554025\n",
      "XGBRegressor(base_score=0.5, booster='gbtree', colsample_bylevel=1,             0.657856\n",
      "             colsample_bynode=1, colsample_bytree=1, gamma=0, gpu_id=-1,\n",
      "             importance_type='gain', interaction_constraints='',\n",
      "             learning_rate=0.300000012, max_delta_step=0, max_depth=6,\n",
      "             min_child_weight=1, missing=nan, monotone_constraints='()',\n",
      "             n_estimators=100, n_jobs=16, num_parallel_tree=1, random_state=0,\n",
      "             reg_alpha=0, reg_lambda=1, scale_pos_weight=1, subsample=1,\n",
      "             tree_method='exact', validate_parameters=1, verbosity=None)\n"
     ]
    }
   ],
   "source": [
    "models = [LinearRegression(), XGBRegressor()]\n",
    "performance = {}\n",
    "for model in models:\n",
    "    model.fit(X_train, y_train)\n",
    "    y_pred = model.predict(X_valid)\n",
    "    rmse = mean_squared_error(y_pred, y_valid, squared=True)\n",
    "    performance[model] = rmse\n",
    "    \n",
    "print(tabulate(performance.items(), headers=['Model', 'RMSE']))"
   ]
  },
  {
   "cell_type": "markdown",
   "id": "882cd2a2",
   "metadata": {},
   "source": [
    "### Train selected model"
   ]
  },
  {
   "cell_type": "code",
   "execution_count": 46,
   "id": "642ec3bf",
   "metadata": {
    "ExecuteTime": {
     "end_time": "2021-07-16T14:53:33.269496Z",
     "start_time": "2021-07-16T14:53:33.261494Z"
    }
   },
   "outputs": [],
   "source": [
    "from sklearn.model_selection import train_test_split\n",
    "from xgboost import XGBRegressor"
   ]
  },
  {
   "cell_type": "code",
   "execution_count": null,
   "id": "931274bb",
   "metadata": {},
   "outputs": [],
   "source": [
    "cat_col = ['id', 'excerpt', 'target', 'standard_error', 'tokens']\n",
    "X = train.drop(cat_col, axis=1)\n",
    "y = train['target']\n",
    "X_train, X_valid, y_train, y_valid = train_test_split(X, y, test_size=0.2, random_state=42)"
   ]
  },
  {
   "cell_type": "code",
   "execution_count": 47,
   "id": "265de587",
   "metadata": {
    "ExecuteTime": {
     "end_time": "2021-07-16T14:53:34.029784Z",
     "start_time": "2021-07-16T14:53:33.841741Z"
    }
   },
   "outputs": [
    {
     "data": {
      "text/plain": [
       "XGBRegressor(base_score=0.5, booster='gbtree', colsample_bylevel=1,\n",
       "             colsample_bynode=1, colsample_bytree=1, gamma=0, gpu_id=-1,\n",
       "             importance_type='gain', interaction_constraints='',\n",
       "             learning_rate=0.300000012, max_delta_step=0, max_depth=6,\n",
       "             min_child_weight=1, missing=nan, monotone_constraints='()',\n",
       "             n_estimators=100, n_jobs=16, num_parallel_tree=1, random_state=0,\n",
       "             reg_alpha=0, reg_lambda=1, scale_pos_weight=1, subsample=1,\n",
       "             tree_method='exact', validate_parameters=1, verbosity=None)"
      ]
     },
     "execution_count": 47,
     "metadata": {},
     "output_type": "execute_result"
    }
   ],
   "source": [
    "xgb = XGBRegressor()\n",
    "xgb.fit(X_train, y_train)"
   ]
  },
  {
   "cell_type": "markdown",
   "id": "25021d2f",
   "metadata": {},
   "source": [
    "## Submission"
   ]
  },
  {
   "cell_type": "code",
   "execution_count": 39,
   "id": "0897bc73",
   "metadata": {
    "ExecuteTime": {
     "end_time": "2021-07-16T14:24:55.675273Z",
     "start_time": "2021-07-16T14:24:55.667271Z"
    }
   },
   "outputs": [],
   "source": [
    "test = pd.read_csv(\"test.csv\")"
   ]
  },
  {
   "cell_type": "code",
   "execution_count": 43,
   "id": "9e7a59c1",
   "metadata": {
    "ExecuteTime": {
     "end_time": "2021-07-16T14:25:56.564936Z",
     "start_time": "2021-07-16T14:25:56.421904Z"
    }
   },
   "outputs": [],
   "source": [
    "test = test.drop(['url_legal', 'license'], axis=1)\n",
    "test = get_meta(test, 'excerpt')\n",
    "test = get_stat(test, 'excerpt')\n",
    "test['tokens'] = test['excerpt'].apply(preprocess, pipeline=pipeline)\n",
    "test = token_stats(test, 'tokens')"
   ]
  },
  {
   "cell_type": "code",
   "execution_count": 44,
   "id": "7f327b6a",
   "metadata": {
    "ExecuteTime": {
     "end_time": "2021-07-16T14:25:58.799687Z",
     "start_time": "2021-07-16T14:25:58.773682Z"
    }
   },
   "outputs": [
    {
     "data": {
      "text/html": [
       "<div>\n",
       "<style scoped>\n",
       "    .dataframe tbody tr th:only-of-type {\n",
       "        vertical-align: middle;\n",
       "    }\n",
       "\n",
       "    .dataframe tbody tr th {\n",
       "        vertical-align: top;\n",
       "    }\n",
       "\n",
       "    .dataframe thead th {\n",
       "        text-align: right;\n",
       "    }\n",
       "</style>\n",
       "<table border=\"1\" class=\"dataframe\">\n",
       "  <thead>\n",
       "    <tr style=\"text-align: right;\">\n",
       "      <th></th>\n",
       "      <th>id</th>\n",
       "      <th>excerpt</th>\n",
       "      <th>sentences_per_excerpt</th>\n",
       "      <th>words_per_excerpt</th>\n",
       "      <th>characters_per_excerpt</th>\n",
       "      <th>words_per_sentence</th>\n",
       "      <th>characters_per_sentense</th>\n",
       "      <th>characters_per_word</th>\n",
       "      <th>flesch_reading_ease</th>\n",
       "      <th>flesch_kincaid_grade</th>\n",
       "      <th>...</th>\n",
       "      <th>smog_index</th>\n",
       "      <th>automated_readability_index</th>\n",
       "      <th>coleman_liau_index</th>\n",
       "      <th>linsear_write_formula</th>\n",
       "      <th>dale_chall_readability_score</th>\n",
       "      <th>text_standard</th>\n",
       "      <th>tokens</th>\n",
       "      <th>rare_tokens</th>\n",
       "      <th>common_tokens</th>\n",
       "      <th>long_tokens</th>\n",
       "    </tr>\n",
       "  </thead>\n",
       "  <tbody>\n",
       "    <tr>\n",
       "      <th>0</th>\n",
       "      <td>c0f722661</td>\n",
       "      <td>My hope lay in Jack's promise that he would ke...</td>\n",
       "      <td>8</td>\n",
       "      <td>149</td>\n",
       "      <td>772</td>\n",
       "      <td>18.625000</td>\n",
       "      <td>95.375000</td>\n",
       "      <td>4.187919</td>\n",
       "      <td>71.68</td>\n",
       "      <td>9.4</td>\n",
       "      <td>...</td>\n",
       "      <td>8.8</td>\n",
       "      <td>10.8</td>\n",
       "      <td>6.62</td>\n",
       "      <td>11.000000</td>\n",
       "      <td>6.24</td>\n",
       "      <td>11.0</td>\n",
       "      <td>[hope, lay, jack, promise, would, keep, bright...</td>\n",
       "      <td>3</td>\n",
       "      <td>27</td>\n",
       "      <td>32</td>\n",
       "    </tr>\n",
       "    <tr>\n",
       "      <th>1</th>\n",
       "      <td>f0953f0a5</td>\n",
       "      <td>Dotty continued to go to Mrs. Gray's every nig...</td>\n",
       "      <td>12</td>\n",
       "      <td>181</td>\n",
       "      <td>967</td>\n",
       "      <td>15.333333</td>\n",
       "      <td>79.583333</td>\n",
       "      <td>4.348066</td>\n",
       "      <td>88.57</td>\n",
       "      <td>5.0</td>\n",
       "      <td>...</td>\n",
       "      <td>5.6</td>\n",
       "      <td>7.3</td>\n",
       "      <td>6.55</td>\n",
       "      <td>6.428571</td>\n",
       "      <td>5.41</td>\n",
       "      <td>7.0</td>\n",
       "      <td>[dotty, continued, go, mrs, gray, every, night...</td>\n",
       "      <td>2</td>\n",
       "      <td>32</td>\n",
       "      <td>19</td>\n",
       "    </tr>\n",
       "    <tr>\n",
       "      <th>2</th>\n",
       "      <td>0df072751</td>\n",
       "      <td>It was a bright and cheerful scene that greete...</td>\n",
       "      <td>13</td>\n",
       "      <td>174</td>\n",
       "      <td>948</td>\n",
       "      <td>13.538462</td>\n",
       "      <td>71.923077</td>\n",
       "      <td>4.454023</td>\n",
       "      <td>80.04</td>\n",
       "      <td>8.3</td>\n",
       "      <td>...</td>\n",
       "      <td>9.2</td>\n",
       "      <td>12.1</td>\n",
       "      <td>7.61</td>\n",
       "      <td>14.000000</td>\n",
       "      <td>6.78</td>\n",
       "      <td>8.0</td>\n",
       "      <td>[bright, cheerful, scene, greeted, eyes, capta...</td>\n",
       "      <td>8</td>\n",
       "      <td>26</td>\n",
       "      <td>30</td>\n",
       "    </tr>\n",
       "    <tr>\n",
       "      <th>3</th>\n",
       "      <td>04caf4e0c</td>\n",
       "      <td>Cell division is the process by which a parent...</td>\n",
       "      <td>7</td>\n",
       "      <td>180</td>\n",
       "      <td>1144</td>\n",
       "      <td>25.714286</td>\n",
       "      <td>162.428571</td>\n",
       "      <td>5.350000</td>\n",
       "      <td>26.48</td>\n",
       "      <td>18.5</td>\n",
       "      <td>...</td>\n",
       "      <td>19.3</td>\n",
       "      <td>21.9</td>\n",
       "      <td>13.70</td>\n",
       "      <td>17.250000</td>\n",
       "      <td>9.55</td>\n",
       "      <td>19.0</td>\n",
       "      <td>[cell, division, process, parent, cell, divide...</td>\n",
       "      <td>10</td>\n",
       "      <td>20</td>\n",
       "      <td>41</td>\n",
       "    </tr>\n",
       "    <tr>\n",
       "      <th>4</th>\n",
       "      <td>0e63f8bea</td>\n",
       "      <td>Debugging is the process of finding and resolv...</td>\n",
       "      <td>6</td>\n",
       "      <td>168</td>\n",
       "      <td>1094</td>\n",
       "      <td>28.000000</td>\n",
       "      <td>181.333333</td>\n",
       "      <td>5.517857</td>\n",
       "      <td>34.60</td>\n",
       "      <td>15.4</td>\n",
       "      <td>...</td>\n",
       "      <td>17.7</td>\n",
       "      <td>18.6</td>\n",
       "      <td>13.93</td>\n",
       "      <td>15.200000</td>\n",
       "      <td>10.01</td>\n",
       "      <td>18.0</td>\n",
       "      <td>[debugging, process, finding, resolving, defec...</td>\n",
       "      <td>18</td>\n",
       "      <td>12</td>\n",
       "      <td>44</td>\n",
       "    </tr>\n",
       "  </tbody>\n",
       "</table>\n",
       "<p>5 rows × 21 columns</p>\n",
       "</div>"
      ],
      "text/plain": [
       "          id                                            excerpt  \\\n",
       "0  c0f722661  My hope lay in Jack's promise that he would ke...   \n",
       "1  f0953f0a5  Dotty continued to go to Mrs. Gray's every nig...   \n",
       "2  0df072751  It was a bright and cheerful scene that greete...   \n",
       "3  04caf4e0c  Cell division is the process by which a parent...   \n",
       "4  0e63f8bea  Debugging is the process of finding and resolv...   \n",
       "\n",
       "   sentences_per_excerpt  words_per_excerpt  characters_per_excerpt  \\\n",
       "0                      8                149                     772   \n",
       "1                     12                181                     967   \n",
       "2                     13                174                     948   \n",
       "3                      7                180                    1144   \n",
       "4                      6                168                    1094   \n",
       "\n",
       "   words_per_sentence  characters_per_sentense  characters_per_word  \\\n",
       "0           18.625000                95.375000             4.187919   \n",
       "1           15.333333                79.583333             4.348066   \n",
       "2           13.538462                71.923077             4.454023   \n",
       "3           25.714286               162.428571             5.350000   \n",
       "4           28.000000               181.333333             5.517857   \n",
       "\n",
       "   flesch_reading_ease  flesch_kincaid_grade  ...  smog_index  \\\n",
       "0                71.68                   9.4  ...         8.8   \n",
       "1                88.57                   5.0  ...         5.6   \n",
       "2                80.04                   8.3  ...         9.2   \n",
       "3                26.48                  18.5  ...        19.3   \n",
       "4                34.60                  15.4  ...        17.7   \n",
       "\n",
       "   automated_readability_index  coleman_liau_index  linsear_write_formula  \\\n",
       "0                         10.8                6.62              11.000000   \n",
       "1                          7.3                6.55               6.428571   \n",
       "2                         12.1                7.61              14.000000   \n",
       "3                         21.9               13.70              17.250000   \n",
       "4                         18.6               13.93              15.200000   \n",
       "\n",
       "   dale_chall_readability_score  text_standard  \\\n",
       "0                          6.24           11.0   \n",
       "1                          5.41            7.0   \n",
       "2                          6.78            8.0   \n",
       "3                          9.55           19.0   \n",
       "4                         10.01           18.0   \n",
       "\n",
       "                                              tokens rare_tokens  \\\n",
       "0  [hope, lay, jack, promise, would, keep, bright...           3   \n",
       "1  [dotty, continued, go, mrs, gray, every, night...           2   \n",
       "2  [bright, cheerful, scene, greeted, eyes, capta...           8   \n",
       "3  [cell, division, process, parent, cell, divide...          10   \n",
       "4  [debugging, process, finding, resolving, defec...          18   \n",
       "\n",
       "   common_tokens  long_tokens  \n",
       "0             27           32  \n",
       "1             32           19  \n",
       "2             26           30  \n",
       "3             20           41  \n",
       "4             12           44  \n",
       "\n",
       "[5 rows x 21 columns]"
      ]
     },
     "execution_count": 44,
     "metadata": {},
     "output_type": "execute_result"
    }
   ],
   "source": [
    "test.head()"
   ]
  },
  {
   "cell_type": "code",
   "execution_count": 45,
   "id": "4a585231",
   "metadata": {
    "ExecuteTime": {
     "end_time": "2021-07-16T14:27:29.463236Z",
     "start_time": "2021-07-16T14:27:29.449233Z"
    }
   },
   "outputs": [],
   "source": [
    "cat_col = ['id', 'excerpt','tokens']\n",
    "X_test = test.drop(cat_col, axis=1)"
   ]
  },
  {
   "cell_type": "code",
   "execution_count": 48,
   "id": "10de77cc",
   "metadata": {
    "ExecuteTime": {
     "end_time": "2021-07-16T14:54:36.919511Z",
     "start_time": "2021-07-16T14:54:36.903508Z"
    }
   },
   "outputs": [],
   "source": [
    "preds = xgb.predict(X_test)\n",
    "ids = test['id']"
   ]
  },
  {
   "cell_type": "code",
   "execution_count": 50,
   "id": "51bc7e23",
   "metadata": {
    "ExecuteTime": {
     "end_time": "2021-07-16T14:54:47.515743Z",
     "start_time": "2021-07-16T14:54:47.498741Z"
    }
   },
   "outputs": [],
   "source": [
    "submission_df = pd.DataFrame({'id': ids, 'target': preds})\n",
    "# submission_df.to_csv('/kaggle/working/submission.csv', index=False)"
   ]
  },
  {
   "cell_type": "code",
   "execution_count": null,
   "id": "41f3f571",
   "metadata": {},
   "outputs": [],
   "source": []
  }
 ],
 "metadata": {
  "kernelspec": {
   "display_name": "Python 3",
   "language": "python",
   "name": "python3"
  },
  "language_info": {
   "codemirror_mode": {
    "name": "ipython",
    "version": 3
   },
   "file_extension": ".py",
   "mimetype": "text/x-python",
   "name": "python",
   "nbconvert_exporter": "python",
   "pygments_lexer": "ipython3",
   "version": "3.8.8"
  },
  "toc": {
   "base_numbering": 1,
   "nav_menu": {},
   "number_sections": true,
   "sideBar": true,
   "skip_h1_title": false,
   "title_cell": "Table of Contents",
   "title_sidebar": "Contents",
   "toc_cell": false,
   "toc_position": {},
   "toc_section_display": true,
   "toc_window_display": false
  },
  "varInspector": {
   "cols": {
    "lenName": 16,
    "lenType": 16,
    "lenVar": 40
   },
   "kernels_config": {
    "python": {
     "delete_cmd_postfix": "",
     "delete_cmd_prefix": "del ",
     "library": "var_list.py",
     "varRefreshCmd": "print(var_dic_list())"
    },
    "r": {
     "delete_cmd_postfix": ") ",
     "delete_cmd_prefix": "rm(",
     "library": "var_list.r",
     "varRefreshCmd": "cat(var_dic_list()) "
    }
   },
   "types_to_exclude": [
    "module",
    "function",
    "builtin_function_or_method",
    "instance",
    "_Feature"
   ],
   "window_display": false
  }
 },
 "nbformat": 4,
 "nbformat_minor": 5
}
